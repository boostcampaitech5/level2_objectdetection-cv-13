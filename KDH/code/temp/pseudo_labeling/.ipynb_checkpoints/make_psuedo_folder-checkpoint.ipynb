{
 "cells": [
  {
   "cell_type": "markdown",
   "id": "dc02078d",
   "metadata": {},
   "source": [
    "train 이미지와 test 이미지를 합쳐서 pseudo_train 폴더로 이동 "
   ]
  },
  {
   "cell_type": "code",
   "execution_count": 22,
   "id": "a6c201ff-094a-4b7a-a0ff-0dd3b2f34f98",
   "metadata": {
    "tags": []
   },
   "outputs": [],
   "source": [
    "import os\n",
    "import shutil"
   ]
  },
  {
   "cell_type": "code",
   "execution_count": 24,
   "id": "d0baa2dc-3a78-40a9-a086-e81156315a19",
   "metadata": {
    "tags": []
   },
   "outputs": [
    {
     "data": {
      "text/plain": [
       "9743"
      ]
     },
     "execution_count": 24,
     "metadata": {},
     "output_type": "execute_result"
    }
   ],
   "source": [
    "len(os.listdir('/opt/ml/level2_project/dataset/test'))"
   ]
  },
  {
   "cell_type": "code",
   "execution_count": 13,
   "id": "6243a18d",
   "metadata": {
    "tags": []
   },
   "outputs": [],
   "source": [
    "train_folder = '/opt/ml/level2_project/dataset/train'\n",
    "pseudo_train_folder = '/opt/ml/level2_project/dataset/pseudo_train'\n",
    "\n",
    "for filename in os.listdir(train_folder):\n",
    "    if filename.startswith('.'): \n",
    "        continue \n",
    "        \n",
    "    filename = filename.split('.')[0]\n",
    "    li.append(filename.zfill(4))\n",
    "    src_file_path = os.path.join(train_folder, f'{filename}.jpg')\n",
    "    shutil.move(src_file_path, pseudo_train_folder)"
   ]
  },
  {
   "cell_type": "code",
   "execution_count": 14,
   "id": "8c1f9e2b-b313-4877-8835-238cf5418b2c",
   "metadata": {
    "tags": []
   },
   "outputs": [
    {
     "data": {
      "text/plain": [
       "4883"
      ]
     },
     "execution_count": 14,
     "metadata": {},
     "output_type": "execute_result"
    }
   ],
   "source": [
    "len(os.listdir('/opt/ml/level2_project/dataset/pseudo_train'))"
   ]
  },
  {
   "cell_type": "code",
   "execution_count": 20,
   "id": "f8fcbc1d-ec50-4b93-bb45-01cae9416367",
   "metadata": {
    "tags": []
   },
   "outputs": [],
   "source": [
    "test_folder = '/opt/ml/level2_project/dataset/test'\n",
    "pseudo_train_folder = '/opt/ml/level2_project/dataset/pseudo_train'\n",
    "\n",
    "for filename in os.listdir(test_folder):\n",
    "    if filename.startswith('.'): \n",
    "        continue \n",
    "        \n",
    "    filename = filename.split('.')[0]\n",
    "    src_file_path = os.path.join(test_folder, f'{filename}.jpg')\n",
    "    filename = str(int(filename) + 4883)\n",
    "    dst_file_path = os.path.join(pseudo_train_folder, f'{filename}.jpg')\n",
    "    shutil.copy(src_file_path, dst_file_path)"
   ]
  },
  {
   "cell_type": "code",
   "execution_count": 21,
   "id": "b847b1c3-2fb0-45d5-b1de-b609ce4c370f",
   "metadata": {
    "tags": []
   },
   "outputs": [
    {
     "data": {
      "text/plain": [
       "4884"
      ]
     },
     "execution_count": 21,
     "metadata": {},
     "output_type": "execute_result"
    }
   ],
   "source": [
    "len(os.listdir('/opt/ml/level2_project/dataset/pseudo_train'))"
   ]
  },
  {
   "cell_type": "code",
   "execution_count": null,
   "id": "1b848b6c-ff87-4e5e-9454-9b7d20707efe",
   "metadata": {},
   "outputs": [],
   "source": []
  }
 ],
 "metadata": {
  "kernelspec": {
   "display_name": "detection",
   "language": "python",
   "name": "detection"
  },
  "language_info": {
   "codemirror_mode": {
    "name": "ipython",
    "version": 3
   },
   "file_extension": ".py",
   "mimetype": "text/x-python",
   "name": "python",
   "nbconvert_exporter": "python",
   "pygments_lexer": "ipython3",
   "version": "3.7.16"
  }
 },
 "nbformat": 4,
 "nbformat_minor": 5
}
