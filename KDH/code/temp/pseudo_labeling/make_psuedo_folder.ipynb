{
 "cells": [
  {
   "attachments": {},
   "cell_type": "markdown",
   "id": "dc02078d",
   "metadata": {},
   "source": [
    "train 이미지와 test 이미지를 합쳐서 pseudo_train 폴더로 이동 "
   ]
  },
  {
   "cell_type": "code",
   "execution_count": 4,
   "id": "a6c201ff-094a-4b7a-a0ff-0dd3b2f34f98",
   "metadata": {
    "tags": []
   },
   "outputs": [],
   "source": [
    "import os\n",
    "import shutil"
   ]
  },
  {
   "cell_type": "code",
   "execution_count": 10,
   "id": "d0baa2dc-3a78-40a9-a086-e81156315a19",
   "metadata": {
    "tags": []
   },
   "outputs": [
    {
     "name": "stdout",
     "output_type": "stream",
     "text": [
      ".으로 시작하는 파일 삭제 완료\n"
     ]
    },
    {
     "data": {
      "text/plain": [
       "4872"
      ]
     },
     "execution_count": 10,
     "metadata": {},
     "output_type": "execute_result"
    }
   ],
   "source": [
    "# 폴더 경로\n",
    "folder_path = '/opt/ml/level2_project/dataset/test'\n",
    "\n",
    "file_list = os.listdir(folder_path)\n",
    "\n",
    "for file_name in file_list:\n",
    "    # 파일 경로\n",
    "    file_path = os.path.join(folder_path, file_name)\n",
    "    \n",
    "    # 파일 이름이 .으로 시작하는 경우 삭제\n",
    "    if file_name.startswith('.'):\n",
    "        os.remove(file_path)\n",
    "\n",
    "print(\".으로 시작하는 파일 삭제 완료\")\n",
    "\n",
    "\n",
    "len(os.listdir('/opt/ml/level2_project/dataset/test'))"
   ]
  },
  {
   "cell_type": "code",
   "execution_count": 20,
   "id": "727aa999-68cc-4647-a4d0-1a86d5df56e0",
   "metadata": {
    "tags": []
   },
   "outputs": [
    {
     "data": {
      "text/plain": [
       "4883"
      ]
     },
     "execution_count": 20,
     "metadata": {},
     "output_type": "execute_result"
    }
   ],
   "source": [
    "import shutil\n",
    "\n",
    "# 폴더 경로\n",
    "folder_path = '/opt/ml/level2_project/dataset/train'\n",
    "\n",
    "file_list = os.listdir(folder_path)\n",
    "\n",
    "for file_name in file_list:\n",
    "    file_path = os.path.join(folder_path, file_name)\n",
    "    \n",
    "    # 항목이 디렉토리인 경우\n",
    "    if os.path.isdir(file_path):\n",
    "        shutil.rmtree(file_path)\n",
    "    \n",
    "    # 항목이 파일인 경우\n",
    "    if os.path.isfile(file_path) and file_name.startswith('.'):\n",
    "        os.remove(file_path)\n",
    "        \n",
    "\n",
    "len(os.listdir('/opt/ml/level2_project/dataset/train'))"
   ]
  },
  {
   "cell_type": "code",
   "execution_count": 22,
   "id": "6243a18d",
   "metadata": {
    "tags": []
   },
   "outputs": [],
   "source": [
    "# train folder에 있는 이미지 옮기기\n",
    "train_folder = '/opt/ml/level2_project/dataset/train'\n",
    "pseudo_train_folder = '/opt/ml/level2_project/dataset/pseudo_train'\n",
    "\n",
    "for filename in os.listdir(train_folder):\n",
    "    if filename.startswith('.'): \n",
    "        continue \n",
    "        \n",
    "    filename = filename.split('.')[0]\n",
    "    src_file_path = os.path.join(train_folder, f'{filename}.jpg')\n",
    "    shutil.move(src_file_path, pseudo_train_folder)"
   ]
  },
  {
   "cell_type": "code",
   "execution_count": 23,
   "id": "8c1f9e2b-b313-4877-8835-238cf5418b2c",
   "metadata": {
    "tags": []
   },
   "outputs": [
    {
     "data": {
      "text/plain": [
       "4883"
      ]
     },
     "execution_count": 23,
     "metadata": {},
     "output_type": "execute_result"
    }
   ],
   "source": [
    "len(os.listdir('/opt/ml/level2_project/dataset/pseudo_train'))"
   ]
  },
  {
   "cell_type": "code",
   "execution_count": 24,
   "id": "f8fcbc1d-ec50-4b93-bb45-01cae9416367",
   "metadata": {
    "tags": []
   },
   "outputs": [],
   "source": [
    "# test folder에 있는 이미지 image_id + 4883 으로 이름 변경후 pseudo_train으로 옮기기 \n",
    "test_folder = '/opt/ml/level2_project/dataset/test'\n",
    "pseudo_train_folder = '/opt/ml/level2_project/dataset/pseudo_train'\n",
    "\n",
    "for filename in os.listdir(test_folder):\n",
    "    if filename.startswith('.'): \n",
    "        continue \n",
    "        \n",
    "    filename = filename.split('.')[0]\n",
    "    src_file_path = os.path.join(test_folder, f'{filename}.jpg')\n",
    "    filename = str(int(filename) + 4883)\n",
    "    dst_file_path = os.path.join(pseudo_train_folder, f'{filename}.jpg')\n",
    "    shutil.copy(src_file_path, dst_file_path)"
   ]
  },
  {
   "cell_type": "code",
   "execution_count": 25,
   "id": "b847b1c3-2fb0-45d5-b1de-b609ce4c370f",
   "metadata": {
    "tags": []
   },
   "outputs": [
    {
     "data": {
      "text/plain": [
       "9755"
      ]
     },
     "execution_count": 25,
     "metadata": {},
     "output_type": "execute_result"
    }
   ],
   "source": [
    "len(os.listdir('/opt/ml/level2_project/dataset/pseudo_train'))"
   ]
  },
  {
   "cell_type": "code",
   "execution_count": 9,
   "id": "1b848b6c-ff87-4e5e-9454-9b7d20707efe",
   "metadata": {},
   "outputs": [],
   "source": [
    "# # test 폴더에 있는 모든 폴더 이름 4883 씩 더해주기 \n",
    "# import os\n",
    "\n",
    "# folder_path = '/opt/ml/level2_project/pseudo_dataset/test'  # 변경하고자 하는 폴더 경로\n",
    "\n",
    "# # 폴더 내의 모든 파일 순회\n",
    "# for filename in os.listdir(folder_path):\n",
    "#     # 파일 이름 \n",
    "#     filename = filename.split('.')[0] \n",
    "    \n",
    "#     # 새로운 파일 이름 생성\n",
    "#     new_filename = str(4883 + int(filename))  \n",
    "    \n",
    "#     before = os.path.join(folder_path, filename + '.jpg')\n",
    "#     after = os.path.join(folder_path, new_filename + '.jpg')\n",
    "    \n",
    "#     # 파일 이름 변경\n",
    "#     os.rename(before, after)  "
   ]
  },
  {
   "cell_type": "code",
   "execution_count": null,
   "id": "9c60e63c",
   "metadata": {},
   "outputs": [],
   "source": []
  }
 ],
 "metadata": {
  "kernelspec": {
   "display_name": "detection",
   "language": "python",
   "name": "detection"
  },
  "language_info": {
   "codemirror_mode": {
    "name": "ipython",
    "version": 3
   },
   "file_extension": ".py",
   "mimetype": "text/x-python",
   "name": "python",
   "nbconvert_exporter": "python",
   "pygments_lexer": "ipython3",
   "version": "3.7.16"
  }
 },
 "nbformat": 4,
 "nbformat_minor": 5
}
