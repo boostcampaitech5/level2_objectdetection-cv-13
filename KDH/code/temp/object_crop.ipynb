{
 "cells": [
  {
   "cell_type": "code",
   "execution_count": 1,
   "metadata": {},
   "outputs": [],
   "source": [
    "import pandas as pd\n",
    "import numpy as np\n",
    "from pycocotools.coco import COCO\n",
    "import cv2\n",
    "import os\n",
    "import matplotlib.pyplot as plt"
   ]
  },
  {
   "attachments": {},
   "cell_type": "markdown",
   "metadata": {},
   "source": [
    "## 사용법\n",
    "아무 폴더나 만드시고 해당 object_crop.ipynb 파일 넣으시고 실행 시키면 됩니다!!!"
   ]
  },
  {
   "cell_type": "code",
   "execution_count": 2,
   "metadata": {},
   "outputs": [],
   "source": [
    "GT_JSON = '../dataset/train.json'\n",
    "LABEL_NAME = [\"General trash\", \"Paper\", \"Paper pack\", \"Metal\", \n",
    "              \"Glass\", \"Plastic\", \"Styrofoam\", \"Plastic bag\", \"Battery\", \"Clothing\"]"
   ]
  },
  {
   "cell_type": "code",
   "execution_count": 3,
   "metadata": {},
   "outputs": [
    {
     "name": "stdout",
     "output_type": "stream",
     "text": [
      "loading annotations into memory...\n",
      "Done (t=0.15s)\n",
      "creating index...\n",
      "index created!\n"
     ]
    }
   ],
   "source": [
    "coco = COCO(GT_JSON)\n",
    "\n",
    "label_index = coco.getCatIds()\n",
    "ann_index = coco.getAnnIds(catIds=label_index)\n",
    "\n",
    "img_ids = coco.getImgIds()\n",
    "image_infos = coco.loadImgs(img_ids)\n",
    "ann_ids = coco.getAnnIds(imgIds=image_infos[7]['id'])\n",
    "\n",
    "save_path = \"../EDA/crop_data\"\n",
    "for label in LABEL_NAME:\n",
    "    os.makedirs(os.path.join(save_path,label),exist_ok=True)"
   ]
  },
  {
   "cell_type": "code",
   "execution_count": 4,
   "metadata": {},
   "outputs": [
    {
     "name": "stdout",
     "output_type": "stream",
     "text": [
      "loading annotations into memory...\n",
      "Done (t=0.08s)\n",
      "creating index...\n",
      "index created!\n",
      "train/0001.jpg\r"
     ]
    }
   ],
   "source": [
    "gt = []\n",
    "    \n",
    "background = np.zeros((1024,1024))\n",
    "\n",
    "coco = COCO(GT_JSON)\n",
    "\n",
    "label_index = coco.getCatIds()\n",
    "ann_index = coco.getAnnIds(catIds=label_index)\n",
    "\n",
    "img_ids = coco.getImgIds()\n",
    "image_infos = coco.loadImgs(img_ids)\n",
    "\n",
    "\n",
    "for info in image_infos:\n",
    "    print(image_infos[1]['file_name'],end='\\r')\n",
    "    ann_ids = coco.getAnnIds(imgIds=info['id'])\n",
    "    img = cv2.imread(\"../dataset/\"+info['file_name'])\n",
    "\n",
    "    for ann in coco.loadAnns(ann_ids):\n",
    "        mask = np.zeros_like(img)\n",
    "        \n",
    "        x_min,x_max = int(ann['bbox'][0]), int(ann['bbox'][0] + ann['bbox'][2])\n",
    "        y_min,y_max = int(ann['bbox'][1]), int(ann['bbox'][1] + ann['bbox'][3])\n",
    "        cls_name = LABEL_NAME[ann['category_id']]\n",
    "        mask[y_min:y_max, x_min:x_max] = img[y_min:y_max, x_min:x_max]\n",
    "        croped_img = cv2.bitwise_and(img, mask)\n",
    "        path = os.path.join(save_path,cls_name,str(ann['image_id'])+\"_\"+str(ann['id'])+\".jpg\")\n",
    "        cv2.imwrite(path,croped_img)\n"
   ]
  }
 ],
 "metadata": {
  "kernelspec": {
   "display_name": "detection",
   "language": "python",
   "name": "detection"
  },
  "language_info": {
   "codemirror_mode": {
    "name": "ipython",
    "version": 3
   },
   "file_extension": ".py",
   "mimetype": "text/x-python",
   "name": "python",
   "nbconvert_exporter": "python",
   "pygments_lexer": "ipython3",
   "version": "3.7.16"
  },
  "orig_nbformat": 4
 },
 "nbformat": 4,
 "nbformat_minor": 2
}
